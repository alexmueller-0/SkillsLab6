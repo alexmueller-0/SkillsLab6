{
 "cells": [
  {
   "cell_type": "code",
   "execution_count": 2,
   "id": "cf2f406a-536c-4efb-b05a-6efa37e4053a",
   "metadata": {},
   "outputs": [
    {
     "name": "stdout",
     "output_type": "stream",
     "text": [
      "Enter your name: Alex\n",
      "What was your score?  87\n"
     ]
    },
    {
     "name": "stdout",
     "output_type": "stream",
     "text": [
      "Thank you, Alex\n",
      "Your grade is a B.\n"
     ]
    }
   ],
   "source": [
    "name = input(\"Enter your name:\")\n",
    "yourClass = input(\"Enter your class:\")\n",
    "scored = input(\"What was your grade? \")\n",
    "try:\n",
    "    score = int(scored)\n",
    "    print(\"Thank you,\",name)\n",
    "except:\n",
    "    print(\"That is not a valid score.\")\n",
    "if 90<=score<=100:\n",
    "    print(\"Your grade is an A \")\n",
    "elif 80<=score<=89:\n",
    "    print(\"Your grade is a B \")\n",
    "elif 70<=score<=79:\n",
    "    print(\"Your grade is a C \")\n",
    "elif 60<=score<=69:\n",
    "    print(\"Your grade is a D \")\n",
    "elif score<=59:\n",
    "    print(\"Your grade is a F \")\n",
    "print(\"is your grade in class: \",yourClass)\n"
   ]
  },
  {
   "cell_type": "code",
   "execution_count": null,
   "id": "70a19ccf-dd10-480e-a99e-612db1513160",
   "metadata": {},
   "outputs": [],
   "source": []
  }
 ],
 "metadata": {
  "kernelspec": {
   "display_name": "Python 3 (ipykernel)",
   "language": "python",
   "name": "python3"
  },
  "language_info": {
   "codemirror_mode": {
    "name": "ipython",
    "version": 3
   },
   "file_extension": ".py",
   "mimetype": "text/x-python",
   "name": "python",
   "nbconvert_exporter": "python",
   "pygments_lexer": "ipython3",
   "version": "3.12.4"
  }
 },
 "nbformat": 4,
 "nbformat_minor": 5
}
